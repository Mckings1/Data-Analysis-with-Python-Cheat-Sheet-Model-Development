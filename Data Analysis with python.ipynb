{
 "cells": [
  {
   "cell_type": "markdown",
   "id": "a9ca6033",
   "metadata": {},
   "source": [
    "## Data Analysis with Python\n",
    "#### Cheat Sheet: Model Development\n"
   ]
  },
  {
   "cell_type": "markdown",
   "id": "fb18dd87",
   "metadata": {},
   "source": [
    "#### Process\tDescription\tCode Example"
   ]
  },
  {
   "cell_type": "raw",
   "id": "bc76940c",
   "metadata": {},
   "source": [
    "Linear Regression\t\n",
    "Create a Linear Regression model object\t\n",
    "1 from sklearn.linear_model import LinearRegression\n",
    "2 lr = LinearRegression()\n"
   ]
  },
  {
   "cell_type": "raw",
   "id": "f292281d",
   "metadata": {},
   "source": [
    "Copied!\n",
    "Train Linear Regression model\t\n",
    "Train the Linear Regression model on decided data, separating Input and Output attributes. When there is single attribute in input, then it is simple linear regression. When there are multiple attributes, it is multiple linear regression.\t\n",
    "1 X = df[[‘attribute_1’, ‘attribute_2’, ...]]\n",
    "2 Y = df['target_attribute']\n",
    "3 lr.fit(X,Y)"
   ]
  },
  {
   "cell_type": "raw",
   "id": "865f8827",
   "metadata": {},
   "source": [
    "\n",
    "Generate output predictions\t\n",
    "Predict the output for a set of Input attribute values.\t\n",
    "1 Y_hat = lr.predict(X)"
   ]
  },
  {
   "cell_type": "raw",
   "id": "f56a0fc7",
   "metadata": {},
   "source": [
    "Identify the coefficient and intercept\tIdentify the slope coefficient and intercept values of the linear regression model defined by  Where m is the slope coefficient and c is the intercept.\t\n",
    "1 coeff = lr.coef\n",
    "2 intercept = lr.intercept_"
   ]
  },
  {
   "cell_type": "raw",
   "id": "c14c1d65",
   "metadata": {},
   "source": [
    "Residual Plot\t\n",
    "This function will regress y on x (possibly as a robust or polynomial regression) and then draw a scatterplot of the residuals.\t\n",
    "1 import seaborn as sns\n",
    "2 sns.residplot(x=df[[‘attribute_1’]],\n",
    "3 y=df[[‘attribute_2’]])\n"
   ]
  },
  {
   "cell_type": "raw",
   "id": "be70bbcc",
   "metadata": {},
   "source": [
    "Copied!\n",
    "Distribution Plot\tThis function can be used to plot the distribution of data w.r.t. a given attribute.\t\n",
    "1 import seaborn as sns\n",
    "2 sns.distplot(df['attribute_name'], hist=False)\n",
    "3 # can include other parameters like color, label and so on."
   ]
  },
  {
   "cell_type": "raw",
   "id": "e07d423a",
   "metadata": {},
   "source": [
    "Copied!\n",
    "\n",
    "Polynomial Regression\t\n",
    "Available under the numpy package, for single variable feature creation and model fitting.\t\n",
    "1 f = np.polyfit(x, y, n)\n",
    "2 #creates the polynomial features of order n\n",
    "3 p = np.poly1d(f)\n",
    "4 #p becomes the polynomial model used to generate the predicted output\n",
    "5 Y_hat = p(x)\n",
    "6 # Y_hat is the predicted output"
   ]
  },
  {
   "cell_type": "raw",
   "id": "9356c2c0",
   "metadata": {},
   "source": [
    "Copied!\n",
    "\n",
    "Multi-variate Polynomial Regression\t\n",
    "Generate a new feature matrix consisting of all polynomial combinations of the features with the degree less than or equal to the specified degree.\t\n",
    "1 from sklearn.preprocessing import PolynomialFeatures\n",
    "2 Z = df[[‘attribute_1’,’attribute_2’,...]] \n",
    "3 pr=PolynomialFeatures(degree=n)\n",
    "4 Z_pr=pr.fit_transform(Z)"
   ]
  },
  {
   "cell_type": "raw",
   "id": "0ce33a7c",
   "metadata": {},
   "source": [
    "Copied!\n",
    "\n",
    "Pipeline\t\n",
    "Data Pipelines simplify the steps of processing the data. We create the pipeline by creating a list of tuples including the name of the model or estimator and its corresponding constructor.\t\n",
    "1 from sklearn.pipeline import Pipeline\n",
    "2 from sklearn.preprocessing import StandardScaler\n",
    "3 Input=[('scale',StandardScaler()), ('polynomial',\n",
    "4 PolynomialFeatures(include_bias=False)), \n",
    "5 ('model',LinearRegression())]\n",
    "6 pipe=Pipeline(Input)\n",
    "7 Z = Z.astype(float)\n",
    "8 pipe.fit(Z,y)\n",
    "9 ypipe=pipe.predict(Z)"
   ]
  },
  {
   "cell_type": "raw",
   "id": "86298389",
   "metadata": {},
   "source": [
    "Copied!\n",
    "\n",
    "R^2 value\t\n",
    "R^2, also known as the coefficient of determination, is a measure to indicate how close the data is to the fitted regression line.\n",
    "The value of the R-squared is the percentage of variation of the response variable (y) that is explained by a linear model.\n",
    "a. For Linear Regression (single or multi attribute)\n",
    "1 X = df[[‘attribute_1’, ‘attribute_2’, ...]]\n",
    "2 Y = df['target_attribute']\n",
    "3 lr.fit(X,Y)\n",
    "4 R2_score = lr.score(X,Y)"
   ]
  },
  {
   "cell_type": "raw",
   "id": "d5206dc2",
   "metadata": {},
   "source": [
    "Copied!\n",
    "\n",
    "b. For Polynomial regression (single or multi attribute)\t\n",
    "1 from sklearn.metrics import r2_score\n",
    "2 f = np.polyfit(x, y, n)\n",
    "3 p = np.poly1d(f)\n",
    "4 R2_score = r2_score(y, p(x))"
   ]
  },
  {
   "cell_type": "raw",
   "id": "31bb355b",
   "metadata": {},
   "source": [
    "Copied!\n",
    "\n",
    "MSE value\t\n",
    "The Mean Squared Error measures the average of the squares of errors, that is, the difference between actual value and the estimated value.\t\n",
    "\n",
    "1 from sklearn.metrics import mean_squared_error\n",
    "2 mse = mean_squared_error(Y, Yhat)"
   ]
  },
  {
   "cell_type": "markdown",
   "id": "3319574e",
   "metadata": {},
   "source": [
    "### Author Oluwasegun Alabi\n",
    "### Copyright Skills Network"
   ]
  }
 ],
 "metadata": {
  "kernelspec": {
   "display_name": "Python 3 (ipykernel)",
   "language": "python",
   "name": "python3"
  },
  "language_info": {
   "codemirror_mode": {
    "name": "ipython",
    "version": 3
   },
   "file_extension": ".py",
   "mimetype": "text/x-python",
   "name": "python",
   "nbconvert_exporter": "python",
   "pygments_lexer": "ipython3",
   "version": "3.9.12"
  }
 },
 "nbformat": 4,
 "nbformat_minor": 5
}
